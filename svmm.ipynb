{
 "cells": [
  {
   "cell_type": "code",
   "execution_count": 2,
   "metadata": {
    "collapsed": true
   },
   "outputs": [],
   "source": [
    "from sklearn.svm import SVR\n",
    "from sklearn.model_selection import train_test_split\n",
    "import pandas as pd"
   ]
  },
  {
   "cell_type": "code",
   "execution_count": 62,
   "outputs": [
    {
     "data": {
      "text/plain": "       Unnamed: 0  the weight of the stock-picking concept  Unnamed: 2  \\\ncount          64                                       64          64   \nunique         64                                        8           8   \ntop            ID                                        0           0   \nfreq            1                                       31          31   \n\n        Unnamed: 3  Unnamed: 4  Unnamed: 5  Unnamed: 6  \\\ncount           64          64          64          64   \nunique           8           8           8           8   \ntop              0           0           0           0   \nfreq            31          31          31          31   \n\n        the original investment performance indicator  Unnamed: 8  Unnamed: 9  \\\ncount                                          64.000      64.000       64.00   \nunique                                         44.000      26.000       35.00   \ntop                                             0.138       0.015        0.97   \nfreq                                            5.000       5.000        6.00   \n\n        Unnamed: 10  Unnamed: 11  Unnamed: 12  \\\ncount        64.000       64.000       64.000   \nunique       35.000       15.000       19.000   \ntop           0.109        0.675        0.638   \nfreq          5.000       13.000        6.000   \n\n       the normalized  investment performance indicator    Unnamed: 14  \\\ncount                                                64             64   \nunique                                               64             64   \ntop                                       Annual Return  Excess Return   \nfreq                                                  1              1   \n\n            Unnamed: 15 Unnamed: 16  Unnamed: 17  Unnamed: 18  \ncount                64          64        64.00    64.000000  \nunique               64          64        15.00    19.000000  \ntop     Systematic Risk  Total Risk         0.56     0.729412  \nfreq                  1           1        13.00     6.000000  ",
      "text/html": "<div>\n<style scoped>\n    .dataframe tbody tr th:only-of-type {\n        vertical-align: middle;\n    }\n\n    .dataframe tbody tr th {\n        vertical-align: top;\n    }\n\n    .dataframe thead th {\n        text-align: right;\n    }\n</style>\n<table border=\"1\" class=\"dataframe\">\n  <thead>\n    <tr style=\"text-align: right;\">\n      <th></th>\n      <th>Unnamed: 0</th>\n      <th>the weight of the stock-picking concept</th>\n      <th>Unnamed: 2</th>\n      <th>Unnamed: 3</th>\n      <th>Unnamed: 4</th>\n      <th>Unnamed: 5</th>\n      <th>Unnamed: 6</th>\n      <th>the original investment performance indicator</th>\n      <th>Unnamed: 8</th>\n      <th>Unnamed: 9</th>\n      <th>Unnamed: 10</th>\n      <th>Unnamed: 11</th>\n      <th>Unnamed: 12</th>\n      <th>the normalized  investment performance indicator</th>\n      <th>Unnamed: 14</th>\n      <th>Unnamed: 15</th>\n      <th>Unnamed: 16</th>\n      <th>Unnamed: 17</th>\n      <th>Unnamed: 18</th>\n    </tr>\n  </thead>\n  <tbody>\n    <tr>\n      <th>count</th>\n      <td>64</td>\n      <td>64</td>\n      <td>64</td>\n      <td>64</td>\n      <td>64</td>\n      <td>64</td>\n      <td>64</td>\n      <td>64.000</td>\n      <td>64.000</td>\n      <td>64.00</td>\n      <td>64.000</td>\n      <td>64.000</td>\n      <td>64.000</td>\n      <td>64</td>\n      <td>64</td>\n      <td>64</td>\n      <td>64</td>\n      <td>64.00</td>\n      <td>64.000000</td>\n    </tr>\n    <tr>\n      <th>unique</th>\n      <td>64</td>\n      <td>8</td>\n      <td>8</td>\n      <td>8</td>\n      <td>8</td>\n      <td>8</td>\n      <td>8</td>\n      <td>44.000</td>\n      <td>26.000</td>\n      <td>35.00</td>\n      <td>35.000</td>\n      <td>15.000</td>\n      <td>19.000</td>\n      <td>64</td>\n      <td>64</td>\n      <td>64</td>\n      <td>64</td>\n      <td>15.00</td>\n      <td>19.000000</td>\n    </tr>\n    <tr>\n      <th>top</th>\n      <td>ID</td>\n      <td>0</td>\n      <td>0</td>\n      <td>0</td>\n      <td>0</td>\n      <td>0</td>\n      <td>0</td>\n      <td>0.138</td>\n      <td>0.015</td>\n      <td>0.97</td>\n      <td>0.109</td>\n      <td>0.675</td>\n      <td>0.638</td>\n      <td>Annual Return</td>\n      <td>Excess Return</td>\n      <td>Systematic Risk</td>\n      <td>Total Risk</td>\n      <td>0.56</td>\n      <td>0.729412</td>\n    </tr>\n    <tr>\n      <th>freq</th>\n      <td>1</td>\n      <td>31</td>\n      <td>31</td>\n      <td>31</td>\n      <td>31</td>\n      <td>31</td>\n      <td>31</td>\n      <td>5.000</td>\n      <td>5.000</td>\n      <td>6.00</td>\n      <td>5.000</td>\n      <td>13.000</td>\n      <td>6.000</td>\n      <td>1</td>\n      <td>1</td>\n      <td>1</td>\n      <td>1</td>\n      <td>13.00</td>\n      <td>6.000000</td>\n    </tr>\n  </tbody>\n</table>\n</div>"
     },
     "execution_count": 62,
     "metadata": {},
     "output_type": "execute_result"
    }
   ],
   "source": [
    "data = pd.read_excel(\"C:\\\\Users\\\\Avinesh\\\\Downloads\\\\stock portfolio performance data set (2).xlsx\", sheet_name='all period')\n",
    "data.describe()"
   ],
   "metadata": {
    "collapsed": false
   }
  },
  {
   "cell_type": "code",
   "execution_count": 56,
   "outputs": [
    {
     "data": {
      "text/plain": "['Unnamed: 0',\n 'the weight of the stock-picking concept',\n 'Unnamed: 2',\n 'Unnamed: 3',\n 'Unnamed: 4',\n 'Unnamed: 5',\n 'Unnamed: 6',\n 'the original investment performance indicator',\n 'Unnamed: 8',\n 'Unnamed: 9',\n 'Unnamed: 10',\n 'Unnamed: 11',\n 'Unnamed: 12',\n 'the normalized  investment performance indicator',\n 'Unnamed: 14',\n 'Unnamed: 15',\n 'Unnamed: 16',\n 'Unnamed: 17',\n 'Unnamed: 18']"
     },
     "execution_count": 56,
     "metadata": {},
     "output_type": "execute_result"
    }
   ],
   "source": [
    "# features = data.iloc[:,13:19]\n",
    "# id_=data.iloc[]\n",
    "file_list=list(data)\n",
    "file_list\n",
    "# Convert string values to float values\n",
    "# data['A'] = data['A'].astype(float)\n"
   ],
   "metadata": {
    "collapsed": false
   }
  },
  {
   "cell_type": "code",
   "execution_count": 57,
   "outputs": [],
   "source": [
    "\n",
    "# file_list.iloc[2:,13] = file_list.iloc[3:,13:14].astype(float)\n",
    "# annual_return = data.iloc[1:, 13]\n",
    "# annual_return\n",
    "# Convert the data into a list\n",
    "# data_list = annual_return.tolist()\n",
    "# data_list"
   ],
   "metadata": {
    "collapsed": false
   }
  },
  {
   "cell_type": "code",
   "execution_count": 58,
   "outputs": [],
   "source": [
    "# id_s=data.iloc[1:,0]\n",
    "# id_s\n",
    "# data_list1=id_s.tolist()\n",
    "# data_list1"
   ],
   "metadata": {
    "collapsed": false
   }
  },
  {
   "cell_type": "code",
   "execution_count": 59,
   "outputs": [
    {
     "data": {
      "text/plain": "array([[0.5318748 ],\n       [0.54971158],\n       [0.69262544],\n       [0.32435139],\n       [0.32661491],\n       [0.2       ],\n       [0.8       ],\n       [0.65218604],\n       [0.75062069],\n       [0.5853215 ],\n       [0.62673274],\n       [0.67988093],\n       [0.53629356],\n       [0.45575831],\n       [0.56143419],\n       [0.29827606],\n       [0.42967704],\n       [0.60503969],\n       [0.52698347],\n       [0.34945786],\n       [0.3122452 ],\n       [0.78606365],\n       [0.74012015],\n       [0.65172875],\n       [0.74692858],\n       [0.56985834],\n       [0.66758125],\n       [0.56665193],\n       [0.47396785],\n       [0.46118247],\n       [0.52673398],\n       [0.67847899],\n       [0.51267857],\n       [0.75343828],\n       [0.47127652],\n       [0.61316397],\n       [0.61861413],\n       [0.52633779],\n       [0.52501848],\n       [0.54223703],\n       [0.29512419],\n       [0.78041818],\n       [0.67939069],\n       [0.58235726],\n       [0.59851577],\n       [0.59511107],\n       [0.71360732],\n       [0.68086546],\n       [0.60099486],\n       [0.72110191],\n       [0.6456569 ],\n       [0.5992272 ],\n       [0.64931006],\n       [0.48215756],\n       [0.5338335 ],\n       [0.52528412],\n       [0.68673655],\n       [0.73044784],\n       [0.68539659],\n       [0.59578611],\n       [0.61254629],\n       [0.6357852 ],\n       [0.69269197]])"
     },
     "execution_count": 59,
     "metadata": {},
     "output_type": "execute_result"
    }
   ],
   "source": [
    "# X = data.iloc[1:, 13].values.reshape(-1, 1)\n",
    "# y = data.iloc[1:, 0].values.reshape(-1, 1)\n",
    "X = data.iloc[1:,17].array.reshape(-1, 1)\n",
    "y = data.iloc[1:,13].array.reshape(-1, 1)\n",
    "y = y.astype('float')\n",
    "y"
   ],
   "metadata": {
    "collapsed": false
   }
  },
  {
   "cell_type": "code",
   "execution_count": 60,
   "outputs": [
    {
     "name": "stdout",
     "output_type": "stream",
     "text": [
      "float64\n"
     ]
    }
   ],
   "source": [
    "# X_train, X_test, y_train, y_test = train_test_split(X, y, test_size=0.2)\n",
    "from sklearn.model_selection import train_test_split\n",
    "from sklearn.preprocessing import StandardScaler\n",
    "from sklearn.svm import SVC\n",
    "from sklearn.metrics import accuracy_score\n",
    "\n",
    "\n",
    "X_train, X_test, y_train, y_test = train_test_split(X, y, test_size=0.2)\n",
    "\n",
    "# Scale your input features\n",
    "scaler = StandardScaler()\n",
    "X_train_scaled = scaler.fit_transform(X_train)\n",
    "X_test_scaled = scaler.transform(X_test)\n",
    "print(y_train.dtype)"
   ],
   "metadata": {
    "collapsed": false
   }
  },
  {
   "cell_type": "code",
   "execution_count": 61,
   "outputs": [
    {
     "data": {
      "text/plain": "0.15670492994793572"
     },
     "execution_count": 61,
     "metadata": {},
     "output_type": "execute_result"
    }
   ],
   "source": [
    "# svr = SVR(kernel='rbf')\n",
    "# svr.fit(X_train, y_train)\n",
    "# svm = SVC()\n",
    "# svm.fit(X_train_scaled, y_train)\n",
    "import numpy as np\n",
    "\n",
    "# Reshape y_train to have shape (n_samples,)\n",
    "y_train = np.ravel(y_train)\n",
    "\n",
    "# Fit the SVR to the training data\n",
    "svr = SVR(kernel='rbf')\n",
    "svr.fit(X_train, y_train)\n",
    "\n",
    "# Make predictions on the test set\n",
    "y_pred = svr.predict(X_test_scaled)\n",
    "test_score=svr.score(X_test,y_test)\n",
    "test_score"
   ],
   "metadata": {
    "collapsed": false
   }
  },
  {
   "cell_type": "code",
   "execution_count": 47,
   "outputs": [],
   "source": [
    "# accuracy = accuracy_score(y_test, y_pred)\n",
    "# print(f'Accuracy: {accuracy}')\n",
    "# from sklearn.metrics import mean_squared_error, mean_absolute_error, r2_score\n",
    "#\n",
    "# # Calculate the mean squared error\n",
    "# mse = mean_squared_error(y_test, y_pred)\n",
    "# print(f'Mean squared error: {mse}')\n",
    "#\n",
    "# # Calculate the root mean squared error\n",
    "# rmse = mean_squared_error(y_test, y_pred, squared=False)\n",
    "# print(f'Root mean squared error: {rmse}')\n",
    "#\n",
    "# # Calculate the mean absolute error\n",
    "# mae = mean_absolute_error(y_test, y_pred)\n",
    "# print(f'Mean absolute error: {mae}')\n",
    "#\n",
    "# # Calculate the R-squared\n",
    "# r2 = r2_score(y_test, y_pred)\n",
    "# print(f'R-squared: {r2}')"
   ],
   "metadata": {
    "collapsed": false
   }
  },
  {
   "cell_type": "code",
   "execution_count": null,
   "outputs": [],
   "source": [],
   "metadata": {
    "collapsed": false
   }
  }
 ],
 "metadata": {
  "kernelspec": {
   "display_name": "Python 3",
   "language": "python",
   "name": "python3"
  },
  "language_info": {
   "codemirror_mode": {
    "name": "ipython",
    "version": 2
   },
   "file_extension": ".py",
   "mimetype": "text/x-python",
   "name": "python",
   "nbconvert_exporter": "python",
   "pygments_lexer": "ipython2",
   "version": "2.7.6"
  }
 },
 "nbformat": 4,
 "nbformat_minor": 0
}
