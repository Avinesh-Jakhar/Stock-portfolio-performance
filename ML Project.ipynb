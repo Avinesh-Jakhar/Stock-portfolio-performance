{
 "cells": [
  {
   "cell_type": "markdown",
   "source": [
    "import pandas as pd"
   ],
   "metadata": {
    "collapsed": false
   }
  },
  {
   "cell_type": "code",
   "execution_count": 32,
   "outputs": [
    {
     "data": {
      "text/plain": "   Unnamed: 0 the weight of the stock-picking concept   Unnamed: 2  \\\n0          ID                              Large B/P    Large ROE    \n1           1                                       1            0   \n2           2                                       0            1   \n3           3                                       0            0   \n4           4                                       0            0   \n..        ...                                     ...          ...   \n59         59                                     0.2          0.2   \n60         60                                     0.2          0.2   \n61         61                                     0.2            0   \n62         62                                       0          0.2   \n63         63                                   0.167        0.167   \n\n     Unnamed: 3                               Unnamed: 4  \\\n0    Large S/P    Large Return Rate in the last quarter    \n1             0                                        0   \n2             0                                        0   \n3             1                                        0   \n4             0                                        1   \n..          ...                                      ...   \n59          0.2                                        0   \n60            0                                      0.2   \n61          0.2                                      0.2   \n62          0.2                                      0.2   \n63        0.167                                    0.167   \n\n              Unnamed: 5              Unnamed: 6  \\\n0    Large Market Value    Small systematic Risk   \n1                      0                       0   \n2                      0                       0   \n3                      0                       0   \n4                      0                       0   \n..                   ...                     ...   \n59                   0.2                     0.2   \n60                   0.2                     0.2   \n61                   0.2                     0.2   \n62                   0.2                     0.2   \n63                 0.167                   0.167   \n\n   the original investment performance indicator     Unnamed: 8  \\\n0                                  Annual Return  Excess Return   \n1                                          0.139           0.01   \n2                                          0.143           0.01   \n3                                          0.173          0.018   \n4                                          0.096         -0.002   \n..                                           ...            ...   \n59                                         0.171          0.022   \n60                                         0.153          0.018   \n61                                         0.156          0.018   \n62                                         0.161          0.018   \n63                                         0.173          0.022   \n\n         Unnamed: 9 Unnamed: 10    Unnamed: 11    Unnamed: 12  \\\n0   Systematic Risk  Total Risk  Abs. Win Rate  Rel. Win Rate   \n1              1.33       0.149          0.663          0.525   \n2              1.17       0.108          0.663           0.65   \n3               1.3       0.144          0.638          0.513   \n4              1.39       0.144          0.613          0.475   \n..              ...         ...            ...            ...   \n59             0.94         0.1            0.7          0.638   \n60             0.88       0.087          0.725          0.638   \n61             0.97       0.104          0.663          0.525   \n62             0.98       0.094          0.688          0.663   \n63             0.91       0.095          0.713          0.663   \n\n   the normalized  investment performance indicator    Unnamed: 14  \\\n0                                     Annual Return  Excess Return   \n1                                          0.531875       0.478116   \n2                                          0.549712       0.487595   \n3                                          0.692625       0.629895   \n4                                          0.324351       0.255634   \n..                                              ...            ...   \n59                                         0.685397       0.706792   \n60                                         0.595786       0.631599   \n61                                         0.612546       0.631119   \n62                                         0.635785       0.634402   \n63                                         0.692692       0.716476   \n\n        Unnamed: 15 Unnamed: 16    Unnamed: 17    Unnamed: 18  \n0   Systematic Risk  Total Risk  Abs. Win Rate  Rel. Win Rate  \n1          0.738015         0.8           0.52       0.411765  \n2          0.571579    0.412231           0.52       0.764706  \n3          0.703051    0.756879           0.44       0.376471  \n4               0.8    0.756046           0.36       0.270588  \n..              ...         ...            ...            ...  \n59         0.322843    0.329431           0.64       0.729412  \n60         0.259952    0.204156           0.72       0.729412  \n61          0.35973    0.368958           0.52       0.411765  \n62         0.362039    0.277221            0.6            0.8  \n63         0.296074    0.284923           0.68            0.8  \n\n[64 rows x 19 columns]",
      "text/html": "<div>\n<style scoped>\n    .dataframe tbody tr th:only-of-type {\n        vertical-align: middle;\n    }\n\n    .dataframe tbody tr th {\n        vertical-align: top;\n    }\n\n    .dataframe thead th {\n        text-align: right;\n    }\n</style>\n<table border=\"1\" class=\"dataframe\">\n  <thead>\n    <tr style=\"text-align: right;\">\n      <th></th>\n      <th>Unnamed: 0</th>\n      <th>the weight of the stock-picking concept</th>\n      <th>Unnamed: 2</th>\n      <th>Unnamed: 3</th>\n      <th>Unnamed: 4</th>\n      <th>Unnamed: 5</th>\n      <th>Unnamed: 6</th>\n      <th>the original investment performance indicator</th>\n      <th>Unnamed: 8</th>\n      <th>Unnamed: 9</th>\n      <th>Unnamed: 10</th>\n      <th>Unnamed: 11</th>\n      <th>Unnamed: 12</th>\n      <th>the normalized  investment performance indicator</th>\n      <th>Unnamed: 14</th>\n      <th>Unnamed: 15</th>\n      <th>Unnamed: 16</th>\n      <th>Unnamed: 17</th>\n      <th>Unnamed: 18</th>\n    </tr>\n  </thead>\n  <tbody>\n    <tr>\n      <th>0</th>\n      <td>ID</td>\n      <td>Large B/P</td>\n      <td>Large ROE</td>\n      <td>Large S/P</td>\n      <td>Large Return Rate in the last quarter</td>\n      <td>Large Market Value</td>\n      <td>Small systematic Risk</td>\n      <td>Annual Return</td>\n      <td>Excess Return</td>\n      <td>Systematic Risk</td>\n      <td>Total Risk</td>\n      <td>Abs. Win Rate</td>\n      <td>Rel. Win Rate</td>\n      <td>Annual Return</td>\n      <td>Excess Return</td>\n      <td>Systematic Risk</td>\n      <td>Total Risk</td>\n      <td>Abs. Win Rate</td>\n      <td>Rel. Win Rate</td>\n    </tr>\n    <tr>\n      <th>1</th>\n      <td>1</td>\n      <td>1</td>\n      <td>0</td>\n      <td>0</td>\n      <td>0</td>\n      <td>0</td>\n      <td>0</td>\n      <td>0.139</td>\n      <td>0.01</td>\n      <td>1.33</td>\n      <td>0.149</td>\n      <td>0.663</td>\n      <td>0.525</td>\n      <td>0.531875</td>\n      <td>0.478116</td>\n      <td>0.738015</td>\n      <td>0.8</td>\n      <td>0.52</td>\n      <td>0.411765</td>\n    </tr>\n    <tr>\n      <th>2</th>\n      <td>2</td>\n      <td>0</td>\n      <td>1</td>\n      <td>0</td>\n      <td>0</td>\n      <td>0</td>\n      <td>0</td>\n      <td>0.143</td>\n      <td>0.01</td>\n      <td>1.17</td>\n      <td>0.108</td>\n      <td>0.663</td>\n      <td>0.65</td>\n      <td>0.549712</td>\n      <td>0.487595</td>\n      <td>0.571579</td>\n      <td>0.412231</td>\n      <td>0.52</td>\n      <td>0.764706</td>\n    </tr>\n    <tr>\n      <th>3</th>\n      <td>3</td>\n      <td>0</td>\n      <td>0</td>\n      <td>1</td>\n      <td>0</td>\n      <td>0</td>\n      <td>0</td>\n      <td>0.173</td>\n      <td>0.018</td>\n      <td>1.3</td>\n      <td>0.144</td>\n      <td>0.638</td>\n      <td>0.513</td>\n      <td>0.692625</td>\n      <td>0.629895</td>\n      <td>0.703051</td>\n      <td>0.756879</td>\n      <td>0.44</td>\n      <td>0.376471</td>\n    </tr>\n    <tr>\n      <th>4</th>\n      <td>4</td>\n      <td>0</td>\n      <td>0</td>\n      <td>0</td>\n      <td>1</td>\n      <td>0</td>\n      <td>0</td>\n      <td>0.096</td>\n      <td>-0.002</td>\n      <td>1.39</td>\n      <td>0.144</td>\n      <td>0.613</td>\n      <td>0.475</td>\n      <td>0.324351</td>\n      <td>0.255634</td>\n      <td>0.8</td>\n      <td>0.756046</td>\n      <td>0.36</td>\n      <td>0.270588</td>\n    </tr>\n    <tr>\n      <th>...</th>\n      <td>...</td>\n      <td>...</td>\n      <td>...</td>\n      <td>...</td>\n      <td>...</td>\n      <td>...</td>\n      <td>...</td>\n      <td>...</td>\n      <td>...</td>\n      <td>...</td>\n      <td>...</td>\n      <td>...</td>\n      <td>...</td>\n      <td>...</td>\n      <td>...</td>\n      <td>...</td>\n      <td>...</td>\n      <td>...</td>\n      <td>...</td>\n    </tr>\n    <tr>\n      <th>59</th>\n      <td>59</td>\n      <td>0.2</td>\n      <td>0.2</td>\n      <td>0.2</td>\n      <td>0</td>\n      <td>0.2</td>\n      <td>0.2</td>\n      <td>0.171</td>\n      <td>0.022</td>\n      <td>0.94</td>\n      <td>0.1</td>\n      <td>0.7</td>\n      <td>0.638</td>\n      <td>0.685397</td>\n      <td>0.706792</td>\n      <td>0.322843</td>\n      <td>0.329431</td>\n      <td>0.64</td>\n      <td>0.729412</td>\n    </tr>\n    <tr>\n      <th>60</th>\n      <td>60</td>\n      <td>0.2</td>\n      <td>0.2</td>\n      <td>0</td>\n      <td>0.2</td>\n      <td>0.2</td>\n      <td>0.2</td>\n      <td>0.153</td>\n      <td>0.018</td>\n      <td>0.88</td>\n      <td>0.087</td>\n      <td>0.725</td>\n      <td>0.638</td>\n      <td>0.595786</td>\n      <td>0.631599</td>\n      <td>0.259952</td>\n      <td>0.204156</td>\n      <td>0.72</td>\n      <td>0.729412</td>\n    </tr>\n    <tr>\n      <th>61</th>\n      <td>61</td>\n      <td>0.2</td>\n      <td>0</td>\n      <td>0.2</td>\n      <td>0.2</td>\n      <td>0.2</td>\n      <td>0.2</td>\n      <td>0.156</td>\n      <td>0.018</td>\n      <td>0.97</td>\n      <td>0.104</td>\n      <td>0.663</td>\n      <td>0.525</td>\n      <td>0.612546</td>\n      <td>0.631119</td>\n      <td>0.35973</td>\n      <td>0.368958</td>\n      <td>0.52</td>\n      <td>0.411765</td>\n    </tr>\n    <tr>\n      <th>62</th>\n      <td>62</td>\n      <td>0</td>\n      <td>0.2</td>\n      <td>0.2</td>\n      <td>0.2</td>\n      <td>0.2</td>\n      <td>0.2</td>\n      <td>0.161</td>\n      <td>0.018</td>\n      <td>0.98</td>\n      <td>0.094</td>\n      <td>0.688</td>\n      <td>0.663</td>\n      <td>0.635785</td>\n      <td>0.634402</td>\n      <td>0.362039</td>\n      <td>0.277221</td>\n      <td>0.6</td>\n      <td>0.8</td>\n    </tr>\n    <tr>\n      <th>63</th>\n      <td>63</td>\n      <td>0.167</td>\n      <td>0.167</td>\n      <td>0.167</td>\n      <td>0.167</td>\n      <td>0.167</td>\n      <td>0.167</td>\n      <td>0.173</td>\n      <td>0.022</td>\n      <td>0.91</td>\n      <td>0.095</td>\n      <td>0.713</td>\n      <td>0.663</td>\n      <td>0.692692</td>\n      <td>0.716476</td>\n      <td>0.296074</td>\n      <td>0.284923</td>\n      <td>0.68</td>\n      <td>0.8</td>\n    </tr>\n  </tbody>\n</table>\n<p>64 rows × 19 columns</p>\n</div>"
     },
     "execution_count": 32,
     "metadata": {},
     "output_type": "execute_result"
    }
   ],
   "source": [
    "data = pd.read_excel(\"C:\\\\Users\\\\Avinesh\\\\Downloads\\\\stock portfolio performance data set (2).xlsx\", sheet_name='all period')\n",
    "data"
   ],
   "metadata": {
    "collapsed": false,
    "ExecuteTime": {
     "start_time": "2023-04-21T13:42:37.183217Z",
     "end_time": "2023-04-21T13:42:37.292587Z"
    }
   }
  },
  {
   "cell_type": "code",
   "execution_count": 33,
   "outputs": [
    {
     "data": {
      "text/plain": "((63, 1), (63, 1))"
     },
     "execution_count": 33,
     "metadata": {},
     "output_type": "execute_result"
    }
   ],
   "source": [
    "X = data.iloc[1:,14].array.reshape(-1, 1)\n",
    "y = data.iloc[1:,13].array.reshape(-1, 1)\n",
    "X.shape,y.shape"
   ],
   "metadata": {
    "collapsed": false,
    "ExecuteTime": {
     "start_time": "2023-04-21T13:42:37.652441Z",
     "end_time": "2023-04-21T13:42:37.683690Z"
    }
   }
  },
  {
   "cell_type": "code",
   "execution_count": 64,
   "outputs": [
    {
     "data": {
      "text/plain": "(18, 1)"
     },
     "execution_count": 64,
     "metadata": {},
     "output_type": "execute_result"
    }
   ],
   "source": [
    "from sklearn import model_selection\n",
    "X_train, X_test, Y_train, Y_test = model_selection.train_test_split(X, y, test_size=0.7)\n",
    "X_train.shape"
   ],
   "metadata": {
    "collapsed": false,
    "ExecuteTime": {
     "start_time": "2023-04-21T13:47:52.562667Z",
     "end_time": "2023-04-21T13:47:52.625166Z"
    }
   }
  },
  {
   "cell_type": "markdown",
   "source": [
    "# LINEAR REGRESSION"
   ],
   "metadata": {
    "collapsed": false
   }
  },
  {
   "cell_type": "code",
   "execution_count": 65,
   "outputs": [
    {
     "data": {
      "text/plain": "LinearRegression()",
      "text/html": "<style>#sk-container-id-11 {color: black;background-color: white;}#sk-container-id-11 pre{padding: 0;}#sk-container-id-11 div.sk-toggleable {background-color: white;}#sk-container-id-11 label.sk-toggleable__label {cursor: pointer;display: block;width: 100%;margin-bottom: 0;padding: 0.3em;box-sizing: border-box;text-align: center;}#sk-container-id-11 label.sk-toggleable__label-arrow:before {content: \"▸\";float: left;margin-right: 0.25em;color: #696969;}#sk-container-id-11 label.sk-toggleable__label-arrow:hover:before {color: black;}#sk-container-id-11 div.sk-estimator:hover label.sk-toggleable__label-arrow:before {color: black;}#sk-container-id-11 div.sk-toggleable__content {max-height: 0;max-width: 0;overflow: hidden;text-align: left;background-color: #f0f8ff;}#sk-container-id-11 div.sk-toggleable__content pre {margin: 0.2em;color: black;border-radius: 0.25em;background-color: #f0f8ff;}#sk-container-id-11 input.sk-toggleable__control:checked~div.sk-toggleable__content {max-height: 200px;max-width: 100%;overflow: auto;}#sk-container-id-11 input.sk-toggleable__control:checked~label.sk-toggleable__label-arrow:before {content: \"▾\";}#sk-container-id-11 div.sk-estimator input.sk-toggleable__control:checked~label.sk-toggleable__label {background-color: #d4ebff;}#sk-container-id-11 div.sk-label input.sk-toggleable__control:checked~label.sk-toggleable__label {background-color: #d4ebff;}#sk-container-id-11 input.sk-hidden--visually {border: 0;clip: rect(1px 1px 1px 1px);clip: rect(1px, 1px, 1px, 1px);height: 1px;margin: -1px;overflow: hidden;padding: 0;position: absolute;width: 1px;}#sk-container-id-11 div.sk-estimator {font-family: monospace;background-color: #f0f8ff;border: 1px dotted black;border-radius: 0.25em;box-sizing: border-box;margin-bottom: 0.5em;}#sk-container-id-11 div.sk-estimator:hover {background-color: #d4ebff;}#sk-container-id-11 div.sk-parallel-item::after {content: \"\";width: 100%;border-bottom: 1px solid gray;flex-grow: 1;}#sk-container-id-11 div.sk-label:hover label.sk-toggleable__label {background-color: #d4ebff;}#sk-container-id-11 div.sk-serial::before {content: \"\";position: absolute;border-left: 1px solid gray;box-sizing: border-box;top: 0;bottom: 0;left: 50%;z-index: 0;}#sk-container-id-11 div.sk-serial {display: flex;flex-direction: column;align-items: center;background-color: white;padding-right: 0.2em;padding-left: 0.2em;position: relative;}#sk-container-id-11 div.sk-item {position: relative;z-index: 1;}#sk-container-id-11 div.sk-parallel {display: flex;align-items: stretch;justify-content: center;background-color: white;position: relative;}#sk-container-id-11 div.sk-item::before, #sk-container-id-11 div.sk-parallel-item::before {content: \"\";position: absolute;border-left: 1px solid gray;box-sizing: border-box;top: 0;bottom: 0;left: 50%;z-index: -1;}#sk-container-id-11 div.sk-parallel-item {display: flex;flex-direction: column;z-index: 1;position: relative;background-color: white;}#sk-container-id-11 div.sk-parallel-item:first-child::after {align-self: flex-end;width: 50%;}#sk-container-id-11 div.sk-parallel-item:last-child::after {align-self: flex-start;width: 50%;}#sk-container-id-11 div.sk-parallel-item:only-child::after {width: 0;}#sk-container-id-11 div.sk-dashed-wrapped {border: 1px dashed gray;margin: 0 0.4em 0.5em 0.4em;box-sizing: border-box;padding-bottom: 0.4em;background-color: white;}#sk-container-id-11 div.sk-label label {font-family: monospace;font-weight: bold;display: inline-block;line-height: 1.2em;}#sk-container-id-11 div.sk-label-container {text-align: center;}#sk-container-id-11 div.sk-container {/* jupyter's `normalize.less` sets `[hidden] { display: none; }` but bootstrap.min.css set `[hidden] { display: none !important; }` so we also need the `!important` here to be able to override the default hidden behavior on the sphinx rendered scikit-learn.org. See: https://github.com/scikit-learn/scikit-learn/issues/21755 */display: inline-block !important;position: relative;}#sk-container-id-11 div.sk-text-repr-fallback {display: none;}</style><div id=\"sk-container-id-11\" class=\"sk-top-container\"><div class=\"sk-text-repr-fallback\"><pre>LinearRegression()</pre><b>In a Jupyter environment, please rerun this cell to show the HTML representation or trust the notebook. <br />On GitHub, the HTML representation is unable to render, please try loading this page with nbviewer.org.</b></div><div class=\"sk-container\" hidden><div class=\"sk-item\"><div class=\"sk-estimator sk-toggleable\"><input class=\"sk-toggleable__control sk-hidden--visually\" id=\"sk-estimator-id-11\" type=\"checkbox\" checked><label for=\"sk-estimator-id-11\" class=\"sk-toggleable__label sk-toggleable__label-arrow\">LinearRegression</label><div class=\"sk-toggleable__content\"><pre>LinearRegression()</pre></div></div></div></div></div>"
     },
     "execution_count": 65,
     "metadata": {},
     "output_type": "execute_result"
    }
   ],
   "source": [
    "from sklearn.linear_model import LinearRegression\n",
    "algl=LinearRegression()\n",
    "algl.fit(X_train,Y_train)\n"
   ],
   "metadata": {
    "collapsed": false,
    "ExecuteTime": {
     "start_time": "2023-04-21T13:47:53.747007Z",
     "end_time": "2023-04-21T13:47:53.814362Z"
    }
   }
  },
  {
   "cell_type": "markdown",
   "source": [],
   "metadata": {
    "collapsed": false
   }
  },
  {
   "cell_type": "code",
   "execution_count": 66,
   "outputs": [
    {
     "data": {
      "text/plain": "(array([[0.93601005]]), array([0.03309153]))"
     },
     "execution_count": 66,
     "metadata": {},
     "output_type": "execute_result"
    }
   ],
   "source": [
    "algl.coef_,algl.intercept_"
   ],
   "metadata": {
    "collapsed": false,
    "ExecuteTime": {
     "start_time": "2023-04-21T13:47:54.780327Z",
     "end_time": "2023-04-21T13:47:54.811589Z"
    }
   }
  },
  {
   "cell_type": "code",
   "execution_count": 67,
   "outputs": [
    {
     "name": "stdout",
     "output_type": "stream",
     "text": [
      "Train Score:  0.9570019783969712\n",
      "Test Score:  0.9443292680288977\n"
     ]
    }
   ],
   "source": [
    "Y_pred = algl.predict(X_test)\n",
    "train_score = algl.score(X_train, Y_train)\n",
    "test_score = algl.score(X_test, Y_test)\n",
    "print(\"Train Score: \", train_score)\n",
    "print(\"Test Score: \", test_score)\n",
    "\n"
   ],
   "metadata": {
    "collapsed": false,
    "ExecuteTime": {
     "start_time": "2023-04-21T13:47:55.301596Z",
     "end_time": "2023-04-21T13:47:55.333005Z"
    }
   }
  },
  {
   "cell_type": "code",
   "execution_count": 68,
   "outputs": [],
   "source": [
    "import matplotlib.pyplot as plt\n",
    "import numpy as np"
   ],
   "metadata": {
    "collapsed": false,
    "ExecuteTime": {
     "start_time": "2023-04-21T13:47:55.950272Z",
     "end_time": "2023-04-21T13:47:55.966696Z"
    }
   }
  },
  {
   "cell_type": "code",
   "execution_count": 69,
   "outputs": [
    {
     "data": {
      "text/plain": "<Figure size 432x288 with 1 Axes>",
      "image/png": "[encoded data removed]"
     },
     "metadata": {
      "needs_background": "light"
     },
     "output_type": "display_data"
    }
   ],
   "source": [
    "m=algl.coef_\n",
    "c=algl.intercept_\n",
    "x_line=np.arange(0.4,0.9,0.000001)\n",
    "y_line=m*x_line +c\n",
    "y_line = np.squeeze(y_line)\n",
    "plt.plot(x_line,y_line,\"r\")\n",
    "# train1d=X_train.reshape(75)\n",
    "plt.scatter(X_test,Y_test)\n",
    "plt.show()"
   ],
   "metadata": {
    "collapsed": false,
    "ExecuteTime": {
     "start_time": "2023-04-21T13:47:56.336312Z",
     "end_time": "2023-04-21T13:47:56.557344Z"
    }
   }
  },
  {
   "cell_type": "markdown",
   "source": [
    "# SVM"
   ],
   "metadata": {
    "collapsed": false
   }
  },
  {
   "cell_type": "code",
   "execution_count": 70,
   "outputs": [],
   "source": [
    "from sklearn.svm import SVR\n",
    "from sklearn.model_selection import train_test_split\n",
    "from sklearn.preprocessing import StandardScaler\n",
    "from sklearn.metrics import accuracy_score\n",
    "X_train, X_test, y_train, y_test = train_test_split(X, y, test_size=0.2)\n",
    "scaler = StandardScaler()\n",
    "X_train_scaled = scaler.fit_transform(X_train)\n",
    "X_test_scaled = scaler.transform(X_test)"
   ],
   "metadata": {
    "collapsed": false,
    "ExecuteTime": {
     "start_time": "2023-04-21T13:47:57.724121Z",
     "end_time": "2023-04-21T13:47:57.739787Z"
    }
   }
  },
  {
   "cell_type": "code",
   "execution_count": 71,
   "outputs": [
    {
     "data": {
      "text/plain": "0.8613146628643255"
     },
     "execution_count": 71,
     "metadata": {},
     "output_type": "execute_result"
    }
   ],
   "source": [
    "y_train = np.ravel(y_train)\n",
    "svr = SVR(kernel='rbf')\n",
    "svr.fit(X_train, y_train)\n",
    "\n",
    "y_pred = svr.predict(X_test_scaled)\n",
    "test_score = svr.score(X_test, y_test)\n",
    "test_score"
   ],
   "metadata": {
    "collapsed": false,
    "ExecuteTime": {
     "start_time": "2023-04-21T13:47:58.452559Z",
     "end_time": "2023-04-21T13:47:58.483927Z"
    }
   }
  },
  {
   "cell_type": "markdown",
   "source": [
    "# KNN"
   ],
   "metadata": {
    "collapsed": false
   }
  },
  {
   "cell_type": "code",
   "execution_count": 62,
   "outputs": [
    {
     "data": {
      "text/plain": "KNeighborsRegressor()",
      "text/html": "<style>#sk-container-id-10 {color: black;background-color: white;}#sk-container-id-10 pre{padding: 0;}#sk-container-id-10 div.sk-toggleable {background-color: white;}#sk-container-id-10 label.sk-toggleable__label {cursor: pointer;display: block;width: 100%;margin-bottom: 0;padding: 0.3em;box-sizing: border-box;text-align: center;}#sk-container-id-10 label.sk-toggleable__label-arrow:before {content: \"▸\";float: left;margin-right: 0.25em;color: #696969;}#sk-container-id-10 label.sk-toggleable__label-arrow:hover:before {color: black;}#sk-container-id-10 div.sk-estimator:hover label.sk-toggleable__label-arrow:before {color: black;}#sk-container-id-10 div.sk-toggleable__content {max-height: 0;max-width: 0;overflow: hidden;text-align: left;background-color: #f0f8ff;}#sk-container-id-10 div.sk-toggleable__content pre {margin: 0.2em;color: black;border-radius: 0.25em;background-color: #f0f8ff;}#sk-container-id-10 input.sk-toggleable__control:checked~div.sk-toggleable__content {max-height: 200px;max-width: 100%;overflow: auto;}#sk-container-id-10 input.sk-toggleable__control:checked~label.sk-toggleable__label-arrow:before {content: \"▾\";}#sk-container-id-10 div.sk-estimator input.sk-toggleable__control:checked~label.sk-toggleable__label {background-color: #d4ebff;}#sk-container-id-10 div.sk-label input.sk-toggleable__control:checked~label.sk-toggleable__label {background-color: #d4ebff;}#sk-container-id-10 input.sk-hidden--visually {border: 0;clip: rect(1px 1px 1px 1px);clip: rect(1px, 1px, 1px, 1px);height: 1px;margin: -1px;overflow: hidden;padding: 0;position: absolute;width: 1px;}#sk-container-id-10 div.sk-estimator {font-family: monospace;background-color: #f0f8ff;border: 1px dotted black;border-radius: 0.25em;box-sizing: border-box;margin-bottom: 0.5em;}#sk-container-id-10 div.sk-estimator:hover {background-color: #d4ebff;}#sk-container-id-10 div.sk-parallel-item::after {content: \"\";width: 100%;border-bottom: 1px solid gray;flex-grow: 1;}#sk-container-id-10 div.sk-label:hover label.sk-toggleable__label {background-color: #d4ebff;}#sk-container-id-10 div.sk-serial::before {content: \"\";position: absolute;border-left: 1px solid gray;box-sizing: border-box;top: 0;bottom: 0;left: 50%;z-index: 0;}#sk-container-id-10 div.sk-serial {display: flex;flex-direction: column;align-items: center;background-color: white;padding-right: 0.2em;padding-left: 0.2em;position: relative;}#sk-container-id-10 div.sk-item {position: relative;z-index: 1;}#sk-container-id-10 div.sk-parallel {display: flex;align-items: stretch;justify-content: center;background-color: white;position: relative;}#sk-container-id-10 div.sk-item::before, #sk-container-id-10 div.sk-parallel-item::before {content: \"\";position: absolute;border-left: 1px solid gray;box-sizing: border-box;top: 0;bottom: 0;left: 50%;z-index: -1;}#sk-container-id-10 div.sk-parallel-item {display: flex;flex-direction: column;z-index: 1;position: relative;background-color: white;}#sk-container-id-10 div.sk-parallel-item:first-child::after {align-self: flex-end;width: 50%;}#sk-container-id-10 div.sk-parallel-item:last-child::after {align-self: flex-start;width: 50%;}#sk-container-id-10 div.sk-parallel-item:only-child::after {width: 0;}#sk-container-id-10 div.sk-dashed-wrapped {border: 1px dashed gray;margin: 0 0.4em 0.5em 0.4em;box-sizing: border-box;padding-bottom: 0.4em;background-color: white;}#sk-container-id-10 div.sk-label label {font-family: monospace;font-weight: bold;display: inline-block;line-height: 1.2em;}#sk-container-id-10 div.sk-label-container {text-align: center;}#sk-container-id-10 div.sk-container {/* jupyter's `normalize.less` sets `[hidden] { display: none; }` but bootstrap.min.css set `[hidden] { display: none !important; }` so we also need the `!important` here to be able to override the default hidden behavior on the sphinx rendered scikit-learn.org. See: https://github.com/scikit-learn/scikit-learn/issues/21755 */display: inline-block !important;position: relative;}#sk-container-id-10 div.sk-text-repr-fallback {display: none;}</style><div id=\"sk-container-id-10\" class=\"sk-top-container\"><div class=\"sk-text-repr-fallback\"><pre>KNeighborsRegressor()</pre><b>In a Jupyter environment, please rerun this cell to show the HTML representation or trust the notebook. <br />On GitHub, the HTML representation is unable to render, please try loading this page with nbviewer.org.</b></div><div class=\"sk-container\" hidden><div class=\"sk-item\"><div class=\"sk-estimator sk-toggleable\"><input class=\"sk-toggleable__control sk-hidden--visually\" id=\"sk-estimator-id-10\" type=\"checkbox\" checked><label for=\"sk-estimator-id-10\" class=\"sk-toggleable__label sk-toggleable__label-arrow\">KNeighborsRegressor</label><div class=\"sk-toggleable__content\"><pre>KNeighborsRegressor()</pre></div></div></div></div></div>"
     },
     "execution_count": 62,
     "metadata": {},
     "output_type": "execute_result"
    }
   ],
   "source": [
    "from sklearn.neighbors import KNeighborsRegressor\n",
    "from sklearn.metrics import mean_squared_error\n",
    "model = KNeighborsRegressor(n_neighbors=5)\n",
    "model.fit(X_train, y_train)"
   ],
   "metadata": {
    "collapsed": false,
    "ExecuteTime": {
     "start_time": "2023-04-21T13:47:43.813928Z",
     "end_time": "2023-04-21T13:47:43.845186Z"
    }
   }
  },
  {
   "cell_type": "code",
   "execution_count": 63,
   "outputs": [
    {
     "data": {
      "text/plain": "0.033522041546488295"
     },
     "execution_count": 63,
     "metadata": {},
     "output_type": "execute_result"
    }
   ],
   "source": [
    "y_pred = model.predict(X_test)\n",
    "rmse = np.sqrt(mean_squared_error(y_test, y_pred))\n",
    "rmse"
   ],
   "metadata": {
    "collapsed": false,
    "ExecuteTime": {
     "start_time": "2023-04-21T13:47:44.369515Z",
     "end_time": "2023-04-21T13:47:44.400801Z"
    }
   }
  },
  {
   "cell_type": "code",
   "execution_count": 54,
   "outputs": [],
   "source": [],
   "metadata": {
    "collapsed": false,
    "ExecuteTime": {
     "start_time": "2023-04-21T13:44:02.525427Z",
     "end_time": "2023-04-21T13:44:02.541057Z"
    }
   }
  },
  {
   "cell_type": "code",
   "execution_count": null,
   "outputs": [],
   "source": [],
   "metadata": {
    "collapsed": false
   }
  }
 ],
 "metadata": {
  "kernelspec": {
   "display_name": "Python 3",
   "language": "python",
   "name": "python3"
  },
  "language_info": {
   "codemirror_mode": {
    "name": "ipython",
    "version": 2
   },
   "file_extension": ".py",
   "mimetype": "text/x-python",
   "name": "python",
   "nbconvert_exporter": "python",
   "pygments_lexer": "ipython2",
   "version": "2.7.6"
  }
 },
 "nbformat": 4,
 "nbformat_minor": 0
}
